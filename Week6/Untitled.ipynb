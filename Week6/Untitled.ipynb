{
 "cells": [
  {
   "cell_type": "code",
   "execution_count": 1,
   "metadata": {},
   "outputs": [
    {
     "ename": "KeyboardInterrupt",
     "evalue": "",
     "output_type": "error",
     "traceback": [
      "\u001b[0;31m---------------------------------------------------------------------------\u001b[0m",
      "\u001b[0;31mKeyboardInterrupt\u001b[0m                         Traceback (most recent call last)",
      "\u001b[0;32m<ipython-input-1-122cf62b603a>\u001b[0m in \u001b[0;36m<module>\u001b[0;34m()\u001b[0m\n\u001b[1;32m      6\u001b[0m \u001b[0;32mimport\u001b[0m \u001b[0mpandas\u001b[0m \u001b[0;32mas\u001b[0m \u001b[0mpd\u001b[0m\u001b[0;34m\u001b[0m\u001b[0m\n\u001b[1;32m      7\u001b[0m \u001b[0;32mfrom\u001b[0m \u001b[0mconfig\u001b[0m \u001b[0;32mimport\u001b[0m \u001b[0mapi_key\u001b[0m\u001b[0;34m\u001b[0m\u001b[0m\n\u001b[0;32m----> 8\u001b[0;31m \u001b[0;32mfrom\u001b[0m \u001b[0mcitipy\u001b[0m \u001b[0;32mimport\u001b[0m \u001b[0mcitipy\u001b[0m\u001b[0;34m\u001b[0m\u001b[0m\n\u001b[0m\u001b[1;32m      9\u001b[0m \u001b[0;32mimport\u001b[0m \u001b[0mnumpy\u001b[0m \u001b[0;32mas\u001b[0m \u001b[0mnp\u001b[0m\u001b[0;34m\u001b[0m\u001b[0m\n",
      "\u001b[0;32m/anaconda3/lib/python3.6/site-packages/citipy/citipy.py\u001b[0m in \u001b[0;36m<module>\u001b[0;34m()\u001b[0m\n\u001b[1;32m     31\u001b[0m         \u001b[0m_world_cities_kdtree\u001b[0m\u001b[0;34m.\u001b[0m\u001b[0madd\u001b[0m\u001b[0;34m(\u001b[0m\u001b[0mcity_coordinate_key\u001b[0m\u001b[0;34m)\u001b[0m\u001b[0;34m\u001b[0m\u001b[0m\n\u001b[1;32m     32\u001b[0m         \u001b[0mc\u001b[0m \u001b[0;34m=\u001b[0m \u001b[0mCity\u001b[0m\u001b[0;34m(\u001b[0m\u001b[0mcity\u001b[0m\u001b[0;34m[\u001b[0m\u001b[0;36m1\u001b[0m\u001b[0;34m]\u001b[0m\u001b[0;34m,\u001b[0m \u001b[0mcity\u001b[0m\u001b[0;34m[\u001b[0m\u001b[0;36m0\u001b[0m\u001b[0;34m]\u001b[0m\u001b[0;34m)\u001b[0m\u001b[0;34m\u001b[0m\u001b[0m\n\u001b[0;32m---> 33\u001b[0;31m         \u001b[0mWORLD_CITIES_DICT\u001b[0m\u001b[0;34m[\u001b[0m\u001b[0mcity_coordinate_key\u001b[0m\u001b[0;34m]\u001b[0m \u001b[0;34m=\u001b[0m \u001b[0mc\u001b[0m\u001b[0;34m\u001b[0m\u001b[0m\n\u001b[0m\u001b[1;32m     34\u001b[0m \u001b[0;34m\u001b[0m\u001b[0m\n\u001b[1;32m     35\u001b[0m \u001b[0;34m\u001b[0m\u001b[0m\n",
      "\u001b[0;31mKeyboardInterrupt\u001b[0m: "
     ]
    }
   ],
   "source": [
    "# Dependencies\n",
    "import csv\n",
    "import matplotlib.pyplot as plt\n",
    "import matplotlib as mpl\n",
    "import requests\n",
    "import pandas as pd\n",
    "from config import api_key\n",
    "from citipy import citipy\n",
    "import numpy as np"
   ]
  },
  {
   "cell_type": "code",
   "execution_count": null,
   "metadata": {},
   "outputs": [],
   "source": [
    "# Some random coordinates\n",
    "coordinates_lat =np.random.randint(-90,90,size=500)\n",
    "coordinates_lng = np.random.randint(-180,180,size=10)\n",
    "coordinates = list(zip(coordinates_lat , coordinates_lng))"
   ]
  },
  {
   "cell_type": "code",
   "execution_count": null,
   "metadata": {},
   "outputs": [],
   "source": [
    "city_num = []\n",
    "cities = []\n",
    "urls = []\n",
    "\n",
    "record_count =0\n",
    "latitud =[]\n",
    "temp = []\n",
    "humidity = []\n",
    "cloudiness = []\n",
    "wind_speed =[]\n",
    "\n",
    "data = {}\n",
    "\n",
    "base_url = 'http://api.openweathermap.org/data/2.5/weather?'\n",
    "print(\"Beginning Data Retreival\")\n",
    "print(\"-----------------------------------------\")\n",
    "for coordinate_pair in coordinates:\n",
    "    lat, lon = coordinate_pair\n",
    "    \n",
    "    name = citipy.nearest_city(lat, lon).city_name\n",
    "    \n",
    "    query_url = f\"{base_url}appid={api_key}&q={name}\"\n",
    "    response = requests.get(query_url).json()\n",
    "    \n",
    "    #Check if the given co-ordinates mapped to a city by checking if 'id' has been returned\n",
    "    if 'id' in response:\n",
    "        cities.append(name)\n",
    "        urls.append(query_url)\n",
    "    \n",
    "        latitud.append(lat)\n",
    "        temp.append(response['main']['temp'])\n",
    "        humidity.append(response['main']['humidity'])\n",
    "        cloudiness.append(response['clouds']['all'])\n",
    "        wind_speed.append(response['wind']['speed'])\n",
    "        \n",
    "        print(f\"Processing record {record_count+1} of {len(coordinates)}\")\n",
    "        print(query_url)\n",
    "        print(\"\")\n",
    "        record_count+=1\n",
    "\n",
    "data = {\n",
    "    \"City\": cities,\n",
    "    \"Latitude\": latitud,\n",
    "    \"Temperature\": temp,\n",
    "    \"Humidity\" :humidity,\n",
    "    \"Cloudiness\": cloudiness,\n",
    "    \"Wind Speed\":wind_speed\n",
    "    }\n",
    "weather_data = pd.DataFrame(data)\n",
    "weather_data.head()"
   ]
  },
  {
   "cell_type": "code",
   "execution_count": null,
   "metadata": {},
   "outputs": [],
   "source": [
    "weather_data['URL Requested']=urls\n",
    "weather_data.to_csv(\"Weather Data.csv\",index=False)\n",
    "weather_data.head()"
   ]
  },
  {
   "cell_type": "code",
   "execution_count": null,
   "metadata": {},
   "outputs": [],
   "source": [
    "gridsize = (4, 2)\n",
    "fig = plt.figure(figsize=(30, 20))\n",
    "ax1 = plt.subplot2grid(gridsize, (1, 0))\n",
    "ax2 = plt.subplot2grid(gridsize, (1, 1))\n",
    "ax3 = plt.subplot2grid(gridsize, (2, 0))\n",
    "ax4 = plt.subplot2grid(gridsize, (2, 1))\n",
    "\n",
    "ax1.set_title('Temperature Vs Latitude', fontsize=14)\n",
    "ax1.set_xlabel(\"Latitude\")\n",
    "ax1.set_ylabel(\"Temperature\")\n",
    "sctr = ax1.scatter(x=weather_data[\"Latitude\"].astype(int), y=weather_data[\"Temperature\"].astype(int), c= weather_data[\"Temperature\"].astype(int), cmap='YlOrRd')\n",
    "plt.colorbar(sctr, ax=ax1, format='%dF')\n",
    "\n",
    "ax2.set_title('Humidity Vs Latitude', fontsize=14)\n",
    "ax2.set_xlabel(\"Latitude\")\n",
    "ax2.set_ylabel(\"Humidity\")\n",
    "sctr = ax2.scatter(x=weather_data[\"Latitude\"].astype(int), y=weather_data[\"Humidity\"].astype(int),c= weather_data[\"Humidity\"].astype(int), cmap='summer')\n",
    "plt.colorbar(sctr, ax=ax2, format='%d%%')\n",
    "\n",
    "ax3.set_title('Cloudiness Vs Latitude', fontsize=14)\n",
    "ax3.set_xlabel(\"Latitude\")\n",
    "ax3.set_ylabel(\"Cloudiness\")\n",
    "sctr = ax3.scatter(x=weather_data[\"Latitude\"].astype(int), y=weather_data[\"Cloudiness\"].astype(int),c= weather_data[\"Cloudiness\"].astype(int), cmap=mpl.cm.cool)\n",
    "plt.colorbar(sctr, ax=ax3, format='%d%%')\n",
    "\n",
    "ax4.set_title('Wind Speed Vs Latitude', fontsize=14)\n",
    "ax4.set_xlabel(\"Latitude\")\n",
    "ax4.set_ylabel(\"Wind Speed\")\n",
    "sctr = ax4.scatter(x=weather_data[\"Latitude\"].astype(int), y=weather_data[\"Wind Speed\"].astype(int),c= weather_data[\"Wind Speed\"].astype(int), cmap='YlOrRd')\n",
    "plt.colorbar(sctr, ax=ax4, format='%dmph')\n",
    "\n",
    "plt.tight_layout()\n",
    "plt.savefig(\"Scatter Plots.png\")"
   ]
  }
 ],
 "metadata": {
  "kernelspec": {
   "display_name": "Python 3",
   "language": "python",
   "name": "python3"
  },
  "language_info": {
   "codemirror_mode": {
    "name": "ipython",
    "version": 3
   },
   "file_extension": ".py",
   "mimetype": "text/x-python",
   "name": "python",
   "nbconvert_exporter": "python",
   "pygments_lexer": "ipython3",
   "version": "3.6.4"
  }
 },
 "nbformat": 4,
 "nbformat_minor": 2
}
